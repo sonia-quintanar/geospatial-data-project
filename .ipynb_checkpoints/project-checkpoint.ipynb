{
 "cells": [
  {
   "cell_type": "code",
   "execution_count": 1,
   "metadata": {},
   "outputs": [],
   "source": [
    "from pymongo import MongoClient\n",
    "import pandas as pd\n",
    "from pymongo import GEOSPHERE"
   ]
  },
  {
   "cell_type": "code",
   "execution_count": 2,
   "metadata": {},
   "outputs": [],
   "source": [
    "# Conectamos con MongoDB\n",
    "conn = MongoClient(\"localhost:27017\")"
   ]
  },
  {
   "cell_type": "code",
   "execution_count": 3,
   "metadata": {},
   "outputs": [],
   "source": [
    "# Conectamos con la base de datos\n",
    "db = conn.get_database(\"ironhack\")"
   ]
  },
  {
   "cell_type": "code",
   "execution_count": 4,
   "metadata": {},
   "outputs": [
    {
     "data": {
      "text/plain": [
       "Database(MongoClient(host=['localhost:27017'], document_class=dict, tz_aware=False, connect=True), 'ironhack')"
      ]
     },
     "execution_count": 4,
     "metadata": {},
     "output_type": "execute_result"
    }
   ],
   "source": [
    "db"
   ]
  },
  {
   "cell_type": "code",
   "execution_count": 5,
   "metadata": {},
   "outputs": [
    {
     "data": {
      "text/plain": [
       "['countries_smaill', 'companies', 'restaurants', 'books']"
      ]
     },
     "execution_count": 5,
     "metadata": {},
     "output_type": "execute_result"
    }
   ],
   "source": [
    "# Vemos las colecciones dentro de la base de datos\n",
    "db.list_collection_names()"
   ]
  },
  {
   "cell_type": "code",
   "execution_count": 6,
   "metadata": {},
   "outputs": [],
   "source": [
    "# Elijo la colección \"companies\"\n",
    "collection = db.get_collection(\"companies\")"
   ]
  },
  {
   "cell_type": "code",
   "execution_count": 7,
   "metadata": {},
   "outputs": [
    {
     "data": {
      "text/plain": [
       "dict_keys(['_id', 'name', 'permalink', 'crunchbase_url', 'homepage_url', 'blog_url', 'blog_feed_url', 'twitter_username', 'category_code', 'number_of_employees', 'founded_year', 'founded_month', 'founded_day', 'deadpooled_year', 'tag_list', 'alias_list', 'email_address', 'phone_number', 'description', 'created_at', 'updated_at', 'overview', 'image', 'products', 'relationships', 'competitions', 'providerships', 'total_money_raised', 'funding_rounds', 'investments', 'acquisition', 'acquisitions', 'offices', 'milestones', 'video_embeds', 'screenshots', 'external_links', 'partners'])"
      ]
     },
     "execution_count": 7,
     "metadata": {},
     "output_type": "execute_result"
    }
   ],
   "source": [
    "# Busco las claves de la colección\n",
    "collection.find_one().keys()"
   ]
  },
  {
   "cell_type": "code",
   "execution_count": 26,
   "metadata": {},
   "outputs": [
    {
     "data": {
      "text/plain": [
       "[None,\n",
       " 'advertising',\n",
       " 'analytics',\n",
       " 'automotive',\n",
       " 'biotech',\n",
       " 'cleantech',\n",
       " 'consulting',\n",
       " 'design',\n",
       " 'ecommerce',\n",
       " 'education',\n",
       " 'enterprise',\n",
       " 'fashion',\n",
       " 'finance',\n",
       " 'games_video',\n",
       " 'government',\n",
       " 'hardware',\n",
       " 'health',\n",
       " 'hospitality',\n",
       " 'legal',\n",
       " 'local',\n",
       " 'manufacturing',\n",
       " 'medical',\n",
       " 'messaging',\n",
       " 'mobile',\n",
       " 'music',\n",
       " 'nanotech',\n",
       " 'network_hosting',\n",
       " 'news',\n",
       " 'nonprofit',\n",
       " 'other',\n",
       " 'photo_video',\n",
       " 'public_relations',\n",
       " 'real_estate',\n",
       " 'search',\n",
       " 'security',\n",
       " 'semiconductor',\n",
       " 'social',\n",
       " 'software',\n",
       " 'sports',\n",
       " 'transportation',\n",
       " 'travel',\n",
       " 'web']"
      ]
     },
     "execution_count": 26,
     "metadata": {},
     "output_type": "execute_result"
    }
   ],
   "source": [
    "# Busco los códigos de categoría para encontrar \"Design\", es uno de los requisitos para la localización de la empresa.\n",
    "collection.distinct(\"category_code\")"
   ]
  },
  {
   "cell_type": "code",
   "execution_count": 24,
   "metadata": {
    "scrolled": false
   },
   "outputs": [
    {
     "data": {
      "text/html": [
       "<div>\n",
       "<style scoped>\n",
       "    .dataframe tbody tr th:only-of-type {\n",
       "        vertical-align: middle;\n",
       "    }\n",
       "\n",
       "    .dataframe tbody tr th {\n",
       "        vertical-align: top;\n",
       "    }\n",
       "\n",
       "    .dataframe thead th {\n",
       "        text-align: right;\n",
       "    }\n",
       "</style>\n",
       "<table border=\"1\" class=\"dataframe\">\n",
       "  <thead>\n",
       "    <tr style=\"text-align: right;\">\n",
       "      <th></th>\n",
       "      <th>name</th>\n",
       "      <th>category_code</th>\n",
       "      <th>offices</th>\n",
       "    </tr>\n",
       "  </thead>\n",
       "  <tbody>\n",
       "    <tr>\n",
       "      <th>0</th>\n",
       "      <td>99designs</td>\n",
       "      <td>design</td>\n",
       "      <td>[{'country_code': 'USA'}, {'country_code': 'AU...</td>\n",
       "    </tr>\n",
       "    <tr>\n",
       "      <th>1</th>\n",
       "      <td>Graticle</td>\n",
       "      <td>design</td>\n",
       "      <td>[{'country_code': 'USA'}]</td>\n",
       "    </tr>\n",
       "    <tr>\n",
       "      <th>2</th>\n",
       "      <td>Kickstarter</td>\n",
       "      <td>design</td>\n",
       "      <td>[{'country_code': 'USA'}]</td>\n",
       "    </tr>\n",
       "    <tr>\n",
       "      <th>3</th>\n",
       "      <td>Moonfruit</td>\n",
       "      <td>design</td>\n",
       "      <td>[{'country_code': 'GBR'}]</td>\n",
       "    </tr>\n",
       "  </tbody>\n",
       "</table>\n",
       "</div>"
      ],
      "text/plain": [
       "          name category_code  \\\n",
       "0    99designs        design   \n",
       "1     Graticle        design   \n",
       "2  Kickstarter        design   \n",
       "3    Moonfruit        design   \n",
       "\n",
       "                                             offices  \n",
       "0  [{'country_code': 'USA'}, {'country_code': 'AU...  \n",
       "1                          [{'country_code': 'USA'}]  \n",
       "2                          [{'country_code': 'USA'}]  \n",
       "3                          [{'country_code': 'GBR'}]  "
      ]
     },
     "execution_count": 24,
     "metadata": {},
     "output_type": "execute_result"
    }
   ],
   "source": [
    "# Creo un DataFrame de la colección con el filtro de design, para que me devuelva los países y el nombre de las empresas donde esta categoría tiene oficina.\n",
    "pd.DataFrame(collection.find({\"category_code\":\"design\"},{\"name\":1, \"category_code\":1, \"offices.country_code\": 1, \"_id\":0}))"
   ]
  },
  {
   "cell_type": "code",
   "execution_count": 25,
   "metadata": {
    "scrolled": true
   },
   "outputs": [
    {
     "data": {
      "text/html": [
       "<div>\n",
       "<style scoped>\n",
       "    .dataframe tbody tr th:only-of-type {\n",
       "        vertical-align: middle;\n",
       "    }\n",
       "\n",
       "    .dataframe tbody tr th {\n",
       "        vertical-align: top;\n",
       "    }\n",
       "\n",
       "    .dataframe thead th {\n",
       "        text-align: right;\n",
       "    }\n",
       "</style>\n",
       "<table border=\"1\" class=\"dataframe\">\n",
       "  <thead>\n",
       "    <tr style=\"text-align: right;\">\n",
       "      <th></th>\n",
       "      <th>name</th>\n",
       "      <th>offices</th>\n",
       "    </tr>\n",
       "  </thead>\n",
       "  <tbody>\n",
       "    <tr>\n",
       "      <th>0</th>\n",
       "      <td>Google</td>\n",
       "      <td>[{'country_code': 'USA'}, {'country_code': 'US...</td>\n",
       "    </tr>\n",
       "    <tr>\n",
       "      <th>1</th>\n",
       "      <td>Truphone</td>\n",
       "      <td>[{'country_code': 'GBR'}, {'country_code': 'US...</td>\n",
       "    </tr>\n",
       "    <tr>\n",
       "      <th>2</th>\n",
       "      <td>Boonex</td>\n",
       "      <td>[{'country_code': 'AUS'}]</td>\n",
       "    </tr>\n",
       "    <tr>\n",
       "      <th>3</th>\n",
       "      <td>TokBox</td>\n",
       "      <td>[{'country_code': 'USA'}, {'country_code': 'AU...</td>\n",
       "    </tr>\n",
       "    <tr>\n",
       "      <th>4</th>\n",
       "      <td>KIT digital</td>\n",
       "      <td>[{'country_code': 'USA'}, {'country_code': 'CZ...</td>\n",
       "    </tr>\n",
       "    <tr>\n",
       "      <th>...</th>\n",
       "      <td>...</td>\n",
       "      <td>...</td>\n",
       "    </tr>\n",
       "    <tr>\n",
       "      <th>252</th>\n",
       "      <td>FRV</td>\n",
       "      <td>[{'country_code': 'ESP'}, {'country_code': 'ES...</td>\n",
       "    </tr>\n",
       "    <tr>\n",
       "      <th>253</th>\n",
       "      <td>KAZ Group</td>\n",
       "      <td>[{'country_code': 'AUS'}]</td>\n",
       "    </tr>\n",
       "    <tr>\n",
       "      <th>254</th>\n",
       "      <td>CommTel Network Solutions</td>\n",
       "      <td>[{'country_code': 'AUS'}, {'country_code': 'AU...</td>\n",
       "    </tr>\n",
       "    <tr>\n",
       "      <th>255</th>\n",
       "      <td>Novera</td>\n",
       "      <td>[{'country_code': 'AUS'}]</td>\n",
       "    </tr>\n",
       "    <tr>\n",
       "      <th>256</th>\n",
       "      <td>Track and Locate</td>\n",
       "      <td>[{'country_code': 'AUS'}]</td>\n",
       "    </tr>\n",
       "  </tbody>\n",
       "</table>\n",
       "<p>257 rows × 2 columns</p>\n",
       "</div>"
      ],
      "text/plain": [
       "                          name  \\\n",
       "0                       Google   \n",
       "1                     Truphone   \n",
       "2                       Boonex   \n",
       "3                       TokBox   \n",
       "4                  KIT digital   \n",
       "..                         ...   \n",
       "252                        FRV   \n",
       "253                  KAZ Group   \n",
       "254  CommTel Network Solutions   \n",
       "255                     Novera   \n",
       "256           Track and Locate   \n",
       "\n",
       "                                               offices  \n",
       "0    [{'country_code': 'USA'}, {'country_code': 'US...  \n",
       "1    [{'country_code': 'GBR'}, {'country_code': 'US...  \n",
       "2                            [{'country_code': 'AUS'}]  \n",
       "3    [{'country_code': 'USA'}, {'country_code': 'AU...  \n",
       "4    [{'country_code': 'USA'}, {'country_code': 'CZ...  \n",
       "..                                                 ...  \n",
       "252  [{'country_code': 'ESP'}, {'country_code': 'ES...  \n",
       "253                          [{'country_code': 'AUS'}]  \n",
       "254  [{'country_code': 'AUS'}, {'country_code': 'AU...  \n",
       "255                          [{'country_code': 'AUS'}]  \n",
       "256                          [{'country_code': 'AUS'}]  \n",
       "\n",
       "[257 rows x 2 columns]"
      ]
     },
     "execution_count": 25,
     "metadata": {},
     "output_type": "execute_result"
    }
   ],
   "source": [
    "# Creo un nuevo DataFrame con las empresas de Australia y elijo ese país para buscar la oficina.\n",
    "pd.DataFrame(collection.find({\"offices.country_code\":\"AUS\"},{\"name\":1, \"offices.country_code\":1, \"_id\":0}))"
   ]
  },
  {
   "cell_type": "code",
   "execution_count": 99,
   "metadata": {},
   "outputs": [
    {
     "data": {
      "text/html": [
       "<div>\n",
       "<style scoped>\n",
       "    .dataframe tbody tr th:only-of-type {\n",
       "        vertical-align: middle;\n",
       "    }\n",
       "\n",
       "    .dataframe tbody tr th {\n",
       "        vertical-align: top;\n",
       "    }\n",
       "\n",
       "    .dataframe thead th {\n",
       "        text-align: right;\n",
       "    }\n",
       "</style>\n",
       "<table border=\"1\" class=\"dataframe\">\n",
       "  <thead>\n",
       "    <tr style=\"text-align: right;\">\n",
       "      <th></th>\n",
       "      <th>name</th>\n",
       "      <th>category_code</th>\n",
       "      <th>offices</th>\n",
       "    </tr>\n",
       "  </thead>\n",
       "  <tbody>\n",
       "    <tr>\n",
       "      <th>0</th>\n",
       "      <td>99designs</td>\n",
       "      <td>design</td>\n",
       "      <td>[{'country_code': 'USA'}, {'country_code': 'AU...</td>\n",
       "    </tr>\n",
       "  </tbody>\n",
       "</table>\n",
       "</div>"
      ],
      "text/plain": [
       "        name category_code                                            offices\n",
       "0  99designs        design  [{'country_code': 'USA'}, {'country_code': 'AU..."
      ]
     },
     "execution_count": 99,
     "metadata": {},
     "output_type": "execute_result"
    }
   ],
   "source": [
    "# Realizo una búsqueda para que me aparezcan las empresas que cumplan estos filtros, que esté en Australia y su categoría sea design.\n",
    "pd.DataFrame(collection.find({\"category_code\":\"design\", \"offices.country_code\":\"AUS\"},{\"name\":1, \"category_code\":1, \"offices.country_code\": 1, \"_id\":0}))"
   ]
  },
  {
   "cell_type": "code",
   "execution_count": 43,
   "metadata": {},
   "outputs": [
    {
     "data": {
      "text/plain": [
       "[{'_id': ObjectId('52cdef7c4bab8bd675298447'),\n",
       "  'name': '99designs',\n",
       "  'permalink': '99designs',\n",
       "  'crunchbase_url': 'http://www.crunchbase.com/company/99designs',\n",
       "  'homepage_url': 'http://99designs.com',\n",
       "  'blog_url': 'http://99designs.com/designer-blog/',\n",
       "  'blog_feed_url': 'http://99designs.com/designer-blog/feed/',\n",
       "  'twitter_username': '99designs',\n",
       "  'category_code': 'design',\n",
       "  'number_of_employees': 100,\n",
       "  'founded_year': 2008,\n",
       "  'founded_month': 2,\n",
       "  'founded_day': None,\n",
       "  'deadpooled_year': None,\n",
       "  'deadpooled_month': None,\n",
       "  'deadpooled_day': None,\n",
       "  'deadpooled_url': None,\n",
       "  'tag_list': 'graphic-design, crowdsourcing, online-marketplace, marketplace, crowdsourced-design',\n",
       "  'alias_list': None,\n",
       "  'email_address': '',\n",
       "  'phone_number': '',\n",
       "  'description': 'Online graphic design marketplace',\n",
       "  'created_at': 'Tue Mar 04 19:31:55 UTC 2008',\n",
       "  'updated_at': 'Thu Jan 02 19:30:19 UTC 2014',\n",
       "  'overview': '<p>99designs is the world&#8217;s largest online graphic design marketplace, connecting startups, small businesses, marketing agencies and other organizations with design needs with more than 250,000 graphic designers from 192 countries around the world. Since its 2008 founding in Melbourne, Australia, 99designs has hosted more than 250,000 design contests for customers and has paid out in excess of USD $62 million to its design community. </p>\\n\\n<p>99designs enables customers to source graphic design work quickly and affordably by launching design contests to its community, working 1-on-1 with individual designers, or purchasing design templates from 99designs&#8217; readymade logo store. 99designs also operates Swiftly.com, a service launched in 2013 that provides customers with quick graphic design fixes for a flat $15 fee.</p>\\n\\n<p>The company opened its San Francisco office in 2010, established European headquarters in Berlin in 2012, and subsequently opened offices in Paris, London and Rio de Janeiro. In addition to English, 99designs operates localized versions of its site in German, French, Italian, Spanish, Dutch and Portuguese.  </p>\\n\\n<p>The company was co-founded by serial entrepreneurs Mark Harbottle and Matt Mickiewicz (SitePoint, Flippa, Tweaky, DeveloperAuction), and is backed by Accel Partners and angel investors Michael Dearing (eBay, Harrison Metal), Dave Goldberg (Survey Monkey), Stewart Butterfield (Flickr, Tiny Speck) and Anthony Casalena (Squarespace). </p>\\n\\n<p>In 2010, 99designs won the <a href=\"http://blog.99designs.com/2010/05/20/thanks-for-voting-99designs-webby-award-winner/\" title=\"People&#8217;s Voice Webby Award\" rel=\"nofollow\">People&#8217;s Voice Webby Award</a>.</p>',\n",
       "  'image': {'available_sizes': [[[150, 41],\n",
       "     'assets/images/resized/0001/4438/14438v14-max-150x150.png'],\n",
       "    [[193, 53], 'assets/images/resized/0001/4438/14438v14-max-250x250.png'],\n",
       "    [[193, 53], 'assets/images/resized/0001/4438/14438v14-max-450x450.png']],\n",
       "   'attribution': None},\n",
       "  'products': [],\n",
       "  'relationships': [{'is_past': False,\n",
       "    'title': 'President & CEO',\n",
       "    'person': {'first_name': 'Patrick',\n",
       "     'last_name': 'Llewellyn',\n",
       "     'permalink': 'patrick-llewellyn'}},\n",
       "   {'is_past': False,\n",
       "    'title': 'Co-Founder',\n",
       "    'person': {'first_name': 'Mark',\n",
       "     'last_name': 'Harbottle',\n",
       "     'permalink': 'mark-harbottle'}},\n",
       "   {'is_past': False,\n",
       "    'title': 'COO',\n",
       "    'person': {'first_name': 'Jason',\n",
       "     'last_name': 'Sew Hoy',\n",
       "     'permalink': 'jason-sew-hoy'}},\n",
       "   {'is_past': False,\n",
       "    'title': 'Chief Technology Officer',\n",
       "    'person': {'first_name': 'Lachlan',\n",
       "     'last_name': 'Donald',\n",
       "     'permalink': 'lachlan-donald'}},\n",
       "   {'is_past': False,\n",
       "    'title': 'Co-Founder',\n",
       "    'person': {'first_name': 'Matt',\n",
       "     'last_name': 'Mickiewicz',\n",
       "     'permalink': 'matt-mickiewicz'}},\n",
       "   {'is_past': False,\n",
       "    'title': 'CFO',\n",
       "    'person': {'first_name': 'Caroline',\n",
       "     'last_name': 'Moon',\n",
       "     'permalink': 'caroline-moon'}},\n",
       "   {'is_past': False,\n",
       "    'title': 'Investor, Advisor',\n",
       "    'person': {'first_name': 'Jeff',\n",
       "     'last_name': 'Kearl',\n",
       "     'permalink': 'jeff-kearl'}},\n",
       "   {'is_past': False,\n",
       "    'title': 'Country Manager',\n",
       "    'person': {'first_name': 'Dan',\n",
       "     'last_name': 'Strougo',\n",
       "     'permalink': 'dan-strougo'}},\n",
       "   {'is_past': True,\n",
       "    'title': 'CMO',\n",
       "    'person': {'first_name': 'Jeff',\n",
       "     'last_name': 'Titterton',\n",
       "     'permalink': 'jeff-titterton'}},\n",
       "   {'is_past': True,\n",
       "    'title': 'Lead Developer',\n",
       "    'person': {'first_name': 'Paul',\n",
       "     'last_name': 'Annesley',\n",
       "     'permalink': 'paul-annesley'}},\n",
       "   {'is_past': True,\n",
       "    'title': 'User Experience Ninja',\n",
       "    'person': {'first_name': 'Adam',\n",
       "     'last_name': 'Schilling',\n",
       "     'permalink': 'adam-schilling'}}],\n",
       "  'competitions': [{'competitor': {'name': 'crowdSPRING',\n",
       "     'permalink': 'crowdspring'}},\n",
       "   {'competitor': {'name': 'DesignBay', 'permalink': 'designbay'}},\n",
       "   {'competitor': {'name': 'Choosa LLC', 'permalink': 'guerra-creativa'}},\n",
       "   {'competitor': {'name': 'Hatchwise', 'permalink': 'hatchwise'}},\n",
       "   {'competitor': {'name': '12designer', 'permalink': '12designer'}},\n",
       "   {'competitor': {'name': 'adtriboo', 'permalink': 'adtriboo'}},\n",
       "   {'competitor': {'name': 'DesignCrowd', 'permalink': 'designcrowd'}},\n",
       "   {'competitor': {'name': 'BrandCrowd', 'permalink': 'brandcrowd'}}],\n",
       "  'providerships': [],\n",
       "  'total_money_raised': '$35M',\n",
       "  'funding_rounds': [{'id': 22714,\n",
       "    'round_code': 'a',\n",
       "    'source_url': 'http://techcrunch.com/2011/04/28/accel-invests-35m-in-99designs-after-years-of-trying/',\n",
       "    'source_description': 'Accel Invests $35M. in 99designsâ€¦After Years of Trying',\n",
       "    'raised_amount': 35000000,\n",
       "    'raised_currency_code': 'USD',\n",
       "    'funded_year': 2011,\n",
       "    'funded_month': 4,\n",
       "    'funded_day': 28,\n",
       "    'investments': [{'company': None,\n",
       "      'financial_org': {'name': 'Accel Partners',\n",
       "       'permalink': 'accel-partners'},\n",
       "      'person': None},\n",
       "     {'company': None,\n",
       "      'financial_org': None,\n",
       "      'person': {'first_name': 'Michael',\n",
       "       'last_name': 'Dearing',\n",
       "       'permalink': 'michael-dearing'}},\n",
       "     {'company': None,\n",
       "      'financial_org': None,\n",
       "      'person': {'first_name': 'Stewart',\n",
       "       'last_name': 'Butterfield',\n",
       "       'permalink': 'stewart-butterfield'}},\n",
       "     {'company': None,\n",
       "      'financial_org': None,\n",
       "      'person': {'first_name': 'Anthony',\n",
       "       'last_name': 'Casalena',\n",
       "       'permalink': 'anthony-casalena'}}]}],\n",
       "  'investments': [],\n",
       "  'acquisition': None,\n",
       "  'acquisitions': [{'price_amount': None,\n",
       "    'price_currency_code': 'USD',\n",
       "    'term_code': None,\n",
       "    'source_url': 'http://venturebeat.com/2012/08/06/99designs-acquires-12designer/?utm_source=feedburner&utm_medium=feed&utm_campaign=Feed%3A+Venturebeat_deals+%28VentureBeat+%C2%BB+Deals%29',\n",
       "    'source_description': '99designs acquires its Euro-clone, 12designer',\n",
       "    'acquired_year': 2012,\n",
       "    'acquired_month': 8,\n",
       "    'acquired_day': 6,\n",
       "    'company': {'name': '12designer', 'permalink': '12designer'}},\n",
       "   {'price_amount': None,\n",
       "    'price_currency_code': 'USD',\n",
       "    'term_code': None,\n",
       "    'source_url': 'http://www.businesswire.com/news/home/20130827005441/en/99designs-Completes-Acquisition-Purchase-Leading-Brazilian-Design?utm_source=dlvr.it&utm_medium=twitter',\n",
       "    'source_description': ' 99designs Completes Second Acquisition With Purchase of Leading Brazilian Design Marketplace and Launches 99designs.com.br ',\n",
       "    'acquired_year': 2013,\n",
       "    'acquired_month': 8,\n",
       "    'acquired_day': 27,\n",
       "    'company': {'name': 'LogoChef', 'permalink': 'logochef'}}],\n",
       "  'offices': [{'description': 'United States (HQ)',\n",
       "    'address1': '447 Battery St.',\n",
       "    'address2': '3rd Floor',\n",
       "    'zip_code': '94111',\n",
       "    'city': 'San Francisco',\n",
       "    'state_code': 'CA',\n",
       "    'country_code': 'USA',\n",
       "    'latitude': 37.7955307,\n",
       "    'longitude': -122.4005983},\n",
       "   {'description': 'Australia',\n",
       "    'address1': '204 Wellington St.',\n",
       "    'address2': '',\n",
       "    'zip_code': '3065',\n",
       "    'city': 'Collingwood',\n",
       "    'state_code': None,\n",
       "    'country_code': 'AUS',\n",
       "    'latitude': -37.8026587,\n",
       "    'longitude': 144.9868546},\n",
       "   {'description': 'Europe',\n",
       "    'address1': 'Schlesische Str. 29-30',\n",
       "    'address2': '',\n",
       "    'zip_code': '',\n",
       "    'city': 'Berlin',\n",
       "    'state_code': None,\n",
       "    'country_code': 'DEU',\n",
       "    'latitude': 52.4986199,\n",
       "    'longitude': 13.4469031}],\n",
       "  'milestones': [{'id': 21461,\n",
       "    'description': '99designs Doubles Monthly Design Contests and Designer Payouts, Adds Key Executives and Staff to Fuel Growth',\n",
       "    'stoned_year': 2012,\n",
       "    'stoned_month': 1,\n",
       "    'stoned_day': 24,\n",
       "    'source_url': 'http://99designs.com/about/press-releases',\n",
       "    'source_text': None,\n",
       "    'source_description': '99designs Doubles Monthly Design Contests and Designer Payouts, Adds Key Executives and Staff to Fuel Growth',\n",
       "    'stoneable_type': 'Company',\n",
       "    'stoned_value': None,\n",
       "    'stoned_value_type': None,\n",
       "    'stoned_acquirer': None,\n",
       "    'stoneable': {'name': '99designs', 'permalink': '99designs'}},\n",
       "   {'id': 22877,\n",
       "    'description': '99designs launched UK Website',\n",
       "    'stoned_year': 2012,\n",
       "    'stoned_month': 2,\n",
       "    'stoned_day': 14,\n",
       "    'source_url': 'http://thenextweb.com/uk/2012/02/14/99designs-launches-a-uk-website-for-its-crowdsourced-design-services/',\n",
       "    'source_text': None,\n",
       "    'source_description': '99designs Launches a UK Website',\n",
       "    'stoneable_type': 'Company',\n",
       "    'stoned_value': None,\n",
       "    'stoned_value_type': None,\n",
       "    'stoned_acquirer': None,\n",
       "    'stoneable': {'name': '99designs', 'permalink': '99designs'}},\n",
       "   {'id': 22878,\n",
       "    'description': '99designs Launches Fund to Support Design Students',\n",
       "    'stoned_year': 2011,\n",
       "    'stoned_month': 10,\n",
       "    'stoned_day': 11,\n",
       "    'source_url': 'http://techcrunch.com/2011/10/11/with-99999-contests-launched-99designs-creates-its-own-fund-to-support-design-students/',\n",
       "    'source_text': None,\n",
       "    'source_description': 'With 99,999 Contests Launched, 99designs Creates Its Own Fund To Support Design Students',\n",
       "    'stoneable_type': 'Company',\n",
       "    'stoned_value': None,\n",
       "    'stoned_value_type': None,\n",
       "    'stoned_acquirer': None,\n",
       "    'stoneable': {'name': '99designs', 'permalink': '99designs'}},\n",
       "   {'id': 33087,\n",
       "    'description': '99designs launches its crowdsourced design network in France after localizing in Germany and The UK',\n",
       "    'stoned_year': 2012,\n",
       "    'stoned_month': 11,\n",
       "    'stoned_day': 28,\n",
       "    'source_url': 'http://thenextweb.com/insider/2012/11/28/99designs-launches-its-crowdsourced-design-network-in-france-after-localizing-in-germany-and-uk/',\n",
       "    'source_text': None,\n",
       "    'source_description': '99designs launches its crowdsourced design network in France',\n",
       "    'stoneable_type': 'Company',\n",
       "    'stoned_value': None,\n",
       "    'stoned_value_type': None,\n",
       "    'stoned_acquirer': None,\n",
       "    'stoneable': {'name': '99designs', 'permalink': '99designs'}},\n",
       "   {'id': 33088,\n",
       "    'description': '99designs launches its crowdsourced design network in Latin America and Spain',\n",
       "    'stoned_year': 2013,\n",
       "    'stoned_month': 3,\n",
       "    'stoned_day': 11,\n",
       "    'source_url': 'http://thenextweb.com/insider/2013/03/11/99designs-launches-its-crowdsourced-design-network-in-latin-america/',\n",
       "    'source_text': None,\n",
       "    'source_description': '99designs launches its crowdsourced design network in Latin America and Spain',\n",
       "    'stoneable_type': 'Company',\n",
       "    'stoned_value': None,\n",
       "    'stoned_value_type': None,\n",
       "    'stoned_acquirer': None,\n",
       "    'stoneable': {'name': '99designs', 'permalink': '99designs'}},\n",
       "   {'id': 33089,\n",
       "    'description': '99designs launches in Italy',\n",
       "    'stoned_year': 2013,\n",
       "    'stoned_month': 1,\n",
       "    'stoned_day': 14,\n",
       "    'source_url': 'http://99designs.com/customer-blog/99designs-launches-italian-site-at-99designs-it/',\n",
       "    'source_text': None,\n",
       "    'source_description': '99designs parla Italiano!',\n",
       "    'stoneable_type': 'Company',\n",
       "    'stoned_value': None,\n",
       "    'stoned_value_type': None,\n",
       "    'stoned_acquirer': None,\n",
       "    'stoneable': {'name': '99designs', 'permalink': '99designs'}},\n",
       "   {'id': 33090,\n",
       "    'description': '9designs launches tools for ‘Pro’ users',\n",
       "    'stoned_year': 2013,\n",
       "    'stoned_month': 2,\n",
       "    'stoned_day': 22,\n",
       "    'source_url': 'http://www.itbusiness.ca/news/99designs-launches-tools-for-pro-users/22762',\n",
       "    'source_text': None,\n",
       "    'source_description': '9designs launches tools for ‘Pro’ users',\n",
       "    'stoneable_type': 'Company',\n",
       "    'stoned_value': None,\n",
       "    'stoned_value_type': None,\n",
       "    'stoned_acquirer': None,\n",
       "    'stoneable': {'name': '99designs', 'permalink': '99designs'}}],\n",
       "  'ipo': None,\n",
       "  'video_embeds': [{'embed_code': '<iframe width=\"430\" height=\"242\" src=\"http://www.youtube.com/embed/8Ksouiru1TE?list=PL77A6DB4221A34A0E\" frameborder=\"0\" allowfullscreen></iframe>',\n",
       "    'description': '<p>How it works in 60 seconds!</p>'}],\n",
       "  'screenshots': [{'available_sizes': [[[150, 93],\n",
       "      'assets/images/resized/0004/5415/45415v1-max-150x150.png'],\n",
       "     [[250, 156], 'assets/images/resized/0004/5415/45415v1-max-250x250.png'],\n",
       "     [[450, 281], 'assets/images/resized/0004/5415/45415v1-max-450x450.png']],\n",
       "    'attribution': None},\n",
       "   {'available_sizes': [[[150, 109],\n",
       "      'assets/images/resized/0006/9583/69583v2-max-150x150.jpg'],\n",
       "     [[250, 182], 'assets/images/resized/0006/9583/69583v2-max-250x250.jpg'],\n",
       "     [[450, 328], 'assets/images/resized/0006/9583/69583v2-max-450x450.jpg']],\n",
       "    'attribution': None}],\n",
       "  'external_links': [],\n",
       "  'partners': []}]"
      ]
     },
     "execution_count": 43,
     "metadata": {},
     "output_type": "execute_result"
    }
   ],
   "source": [
    "# Obtengo toda la información de la empresa encontrada anteriormente. \n",
    "list(collection.find({\"category_code\":\"design\", \"offices.country_code\":\"AUS\"}))"
   ]
  },
  {
   "cell_type": "code",
   "execution_count": null,
   "metadata": {},
   "outputs": [],
   "source": [
    "# Selecciono la latitud y longitud de la empresa encontrada anterioremnete.\n",
    "#'latitude': -37.8026587,\n",
    "#'longitude': 144.9868546"
   ]
  },
  {
   "cell_type": "code",
   "execution_count": 44,
   "metadata": {},
   "outputs": [],
   "source": [
    "# Creo las coordenadas de la empresa.\n",
    "99designs_coords = [144.9868546, -37.8026587]"
   ]
  },
  {
   "cell_type": "code",
   "execution_count": null,
   "metadata": {},
   "outputs": [],
   "source": [
    "# Empiezo a realizar búsquedas para averiguar si hay cerca colegios o guarderías y locales para que nuestros empleados puedan salir de fiesta.\n",
    "# Las búsquedas las hago llamando a la API de Foursquare, lo realizo en otro Jupyter Notebook:\n",
    "# http://localhost:8888/notebooks/foursquare.ipynb\n"
   ]
  },
  {
   "cell_type": "code",
   "execution_count": null,
   "metadata": {},
   "outputs": [],
   "source": [
    "# Como resultado, he encontrado varios colegios y guarderías cerca de la empresa, además de locales de fiesta.\n",
    "# He añadido dos ejemplos de cada uno y sus coordenadas."
   ]
  },
  {
   "cell_type": "code",
   "execution_count": null,
   "metadata": {},
   "outputs": [],
   "source": [
    "# Colegios/Guarderías:"
   ]
  },
  {
   "cell_type": "code",
   "execution_count": null,
   "metadata": {},
   "outputs": [],
   "source": [
    "# Early Learning Family Day Care Scheme\n",
    "coord_1 = [-37.72182, 144.848761]"
   ]
  },
  {
   "cell_type": "code",
   "execution_count": null,
   "metadata": {},
   "outputs": [],
   "source": [
    "# Rupert Street Child Care Centre & Kindergarten\n",
    "coord_2 = [-37.804071, 144.989327]"
   ]
  },
  {
   "cell_type": "code",
   "execution_count": null,
   "metadata": {},
   "outputs": [],
   "source": [
    "# Melbourne Montessori Early Education Centre\n",
    "coord_3 = [-37.803437, 144.990619]"
   ]
  },
  {
   "cell_type": "code",
   "execution_count": null,
   "metadata": {},
   "outputs": [],
   "source": [
    "# Locales de fiesta:"
   ]
  },
  {
   "cell_type": "code",
   "execution_count": null,
   "metadata": {},
   "outputs": [],
   "source": [
    "# The Horn African Beer House, Music Lounge & Ethiopian Restaurant\n",
    "coord_4 = [-37.798969, 144.985499]"
   ]
  },
  {
   "cell_type": "code",
   "execution_count": null,
   "metadata": {},
   "outputs": [],
   "source": [
    "# Yah Yah's\n",
    "coord_5 = [-37.805847, 144.982827]"
   ]
  },
  {
   "cell_type": "code",
   "execution_count": null,
   "metadata": {},
   "outputs": [],
   "source": [
    "--------------------------------------------"
   ]
  },
  {
   "cell_type": "code",
   "execution_count": null,
   "metadata": {},
   "outputs": [],
   "source": [
    "# Intento de realizar Geoqueries:"
   ]
  },
  {
   "cell_type": "code",
   "execution_count": null,
   "metadata": {},
   "outputs": [],
   "source": [
    "#Create geo indexes"
   ]
  },
  {
   "cell_type": "code",
   "execution_count": 83,
   "metadata": {},
   "outputs": [
    {
     "data": {
      "text/plain": [
       "'location_2dsphere'"
      ]
     },
     "execution_count": 83,
     "metadata": {},
     "output_type": "execute_result"
    }
   ],
   "source": [
    "comp.create_index([(\"location\", GEOSPHERE)])"
   ]
  },
  {
   "cell_type": "code",
   "execution_count": 84,
   "metadata": {},
   "outputs": [
    {
     "data": {
      "text/plain": [
       "'geometry_2dsphere'"
      ]
     },
     "execution_count": 84,
     "metadata": {},
     "output_type": "execute_result"
    }
   ],
   "source": [
    "comp.create_index([(\"geometry\", GEOSPHERE)])"
   ]
  },
  {
   "cell_type": "code",
   "execution_count": null,
   "metadata": {},
   "outputs": [],
   "source": [
    "#Run geoqueries\n",
    "#geoIntersects"
   ]
  },
  {
   "cell_type": "code",
   "execution_count": 85,
   "metadata": {},
   "outputs": [],
   "source": [
    "my_coords = [144.9868546, -37.8026587]"
   ]
  },
  {
   "cell_type": "code",
   "execution_count": 86,
   "metadata": {},
   "outputs": [],
   "source": [
    "my_location = {\"type\": \"Point\", \"coordinates\": my_coords}"
   ]
  },
  {
   "cell_type": "code",
   "execution_count": 87,
   "metadata": {},
   "outputs": [
    {
     "data": {
      "text/plain": [
       "{'type': 'Point', 'coordinates': [144.9868546, -37.8026587]}"
      ]
     },
     "execution_count": 87,
     "metadata": {},
     "output_type": "execute_result"
    }
   ],
   "source": [
    "my_location"
   ]
  },
  {
   "cell_type": "code",
   "execution_count": 88,
   "metadata": {},
   "outputs": [
    {
     "data": {
      "text/plain": [
       "dict_keys(['_id', 'name', 'permalink', 'crunchbase_url', 'homepage_url', 'blog_url', 'blog_feed_url', 'twitter_username', 'category_code', 'number_of_employees', 'founded_year', 'founded_month', 'founded_day', 'deadpooled_year', 'tag_list', 'alias_list', 'email_address', 'phone_number', 'description', 'created_at', 'updated_at', 'overview', 'image', 'products', 'relationships', 'competitions', 'providerships', 'total_money_raised', 'funding_rounds', 'investments', 'acquisition', 'acquisitions', 'offices', 'milestones', 'video_embeds', 'screenshots', 'external_links', 'partners'])"
      ]
     },
     "execution_count": 88,
     "metadata": {},
     "output_type": "execute_result"
    }
   ],
   "source": [
    "comp.find_one().keys()"
   ]
  },
  {
   "cell_type": "code",
   "execution_count": 93,
   "metadata": {},
   "outputs": [],
   "source": [
    "comp.find_one(\n",
    "    {\"geometry\": {\"$geoIntersects\": {\"$geometry\": my_location}}},\n",
    "    {\"name\": 1}\n",
    ")"
   ]
  },
  {
   "cell_type": "code",
   "execution_count": 94,
   "metadata": {},
   "outputs": [
    {
     "data": {
      "text/plain": [
       "NoneType"
      ]
     },
     "execution_count": 94,
     "metadata": {},
     "output_type": "execute_result"
    }
   ],
   "source": [
    "type(my_comp)"
   ]
  },
  {
   "cell_type": "code",
   "execution_count": 95,
   "metadata": {},
   "outputs": [
    {
     "data": {
      "text/plain": [
       "{'type': 'Point', 'coordinates': [144.9868546, -37.8026587]}"
      ]
     },
     "execution_count": 95,
     "metadata": {},
     "output_type": "execute_result"
    }
   ],
   "source": [
    "my_location"
   ]
  },
  {
   "cell_type": "code",
   "execution_count": 96,
   "metadata": {},
   "outputs": [],
   "source": [
    "kms= 0.5"
   ]
  },
  {
   "cell_type": "code",
   "execution_count": 97,
   "metadata": {},
   "outputs": [
    {
     "data": {
      "text/plain": [
       "<pymongo.cursor.Cursor at 0x111f13550>"
      ]
     },
     "execution_count": 97,
     "metadata": {},
     "output_type": "execute_result"
    }
   ],
   "source": [
    "comp.find(\n",
    "    {\"location\": {\n",
    "        \"$nearSphere\": {\n",
    "            \"$geometry\": my_location,\n",
    "            \"$maxDistance\": kms * 1000\n",
    "        } \n",
    "    }},\n",
    "    {\"name\": 1, \"_id\": 0}\n",
    ")"
   ]
  },
  {
   "cell_type": "code",
   "execution_count": 98,
   "metadata": {},
   "outputs": [
    {
     "data": {
      "text/plain": [
       "[]"
      ]
     },
     "execution_count": 98,
     "metadata": {},
     "output_type": "execute_result"
    }
   ],
   "source": [
    "list(_)"
   ]
  }
 ],
 "metadata": {
  "kernelspec": {
   "display_name": "Python 3",
   "language": "python",
   "name": "python3"
  },
  "language_info": {
   "codemirror_mode": {
    "name": "ipython",
    "version": 3
   },
   "file_extension": ".py",
   "mimetype": "text/x-python",
   "name": "python",
   "nbconvert_exporter": "python",
   "pygments_lexer": "ipython3",
   "version": "3.8.5"
  }
 },
 "nbformat": 4,
 "nbformat_minor": 4
}
